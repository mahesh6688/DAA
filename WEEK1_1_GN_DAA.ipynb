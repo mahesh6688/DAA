{
  "cells": [
    {
      "cell_type": "markdown",
      "metadata": {
        "id": "view-in-github",
        "colab_type": "text"
      },
      "source": [
        "<a href=\"https://colab.research.google.com/github/maheshboi/DAA/blob/main/WEEK1_1_GN_DAA.ipynb\" target=\"_parent\"><img src=\"https://colab.research.google.com/assets/colab-badge.svg\" alt=\"Open In Colab\"/></a>"
      ]
    },
    {
      "cell_type": "markdown",
      "metadata": {
        "id": "PUM3NIsZCSeV"
      },
      "source": [
        "\n",
        "Imagine you work for a large logistics company that handles a high volume of<br>\n",
        "package deliveries on a daily basis. The company's success hinges on ensuring that<br>\n",
        "packages are delivered to their respective destinations efficiently and on time. To<br>\n",
        "solve this problem, you create a program that can quickly process and classify<br>\n",
        "ckages based on their destination.\n"
      ]
    },
    {
      "cell_type": "code",
      "execution_count": null,
      "metadata": {
        "id": "NF7wQbHACSeX"
      },
      "outputs": [],
      "source": [
        "def merge_sort(array):\n",
        "    if len(array)<=1:\n",
        "        return array\n",
        "    else:\n",
        "        mid = len(array)//2\n",
        "        left_half = merge_sort(array[:mid])\n",
        "        right_half = merge_sort(array[mid:])\n",
        "        return merge(left_half,right_half)"
      ]
    },
    {
      "cell_type": "code",
      "execution_count": null,
      "metadata": {
        "id": "a9qrvsIsCSeY"
      },
      "outputs": [],
      "source": [
        "def merge(left,right):\n",
        "    result = []\n",
        "    i = j = 0\n",
        "    while i<len(left) and j<len(right):\n",
        "        if left[i]<right[j]:\n",
        "            result.append(left[i])\n",
        "            i+=1\n",
        "        else:\n",
        "            result.append(right[j])\n",
        "            j+=1\n",
        "    result.extend(left[i:])\n",
        "    result.extend(right[j:])\n",
        "    return result"
      ]
    },
    {
      "cell_type": "code",
      "execution_count": null,
      "metadata": {
        "id": "unTYWP-tCSeY",
        "outputId": "61000daf-2a91-4561-fd90-6828593cfdae"
      },
      "outputs": [
        {
          "name": "stdout",
          "output_type": "stream",
          "text": [
            "Enter time to reach destination:\n",
            "1\n",
            "2\n",
            "3\n",
            "4\n"
          ]
        }
      ],
      "source": [
        "array = []\n",
        "print('Enter time to reach destination:')\n",
        "for _ in range(4):\n",
        "    val = int(input())\n",
        "    array.append(val)\n",
        "sorted_array = merge_sort(array)\n",
        "for i in sorted_array:\n",
        "    print(i)"
      ]
    }
  ],
  "metadata": {
    "kernelspec": {
      "display_name": "Python 3",
      "language": "python",
      "name": "python3"
    },
    "language_info": {
      "codemirror_mode": {
        "name": "ipython",
        "version": 3
      },
      "file_extension": ".py",
      "mimetype": "text/x-python",
      "name": "python",
      "nbconvert_exporter": "python",
      "pygments_lexer": "ipython3",
      "version": "3.10.12"
    },
    "colab": {
      "provenance": [],
      "include_colab_link": true
    }
  },
  "nbformat": 4,
  "nbformat_minor": 0
}