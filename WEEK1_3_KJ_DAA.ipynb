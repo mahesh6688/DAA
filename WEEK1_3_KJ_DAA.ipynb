{
  "cells": [
    {
      "cell_type": "markdown",
      "metadata": {
        "id": "view-in-github",
        "colab_type": "text"
      },
      "source": [
        "<a href=\"https://colab.research.google.com/github/maheshboi/DAA/blob/main/WEEK1_3_KJ_DAA.ipynb\" target=\"_parent\"><img src=\"https://colab.research.google.com/assets/colab-badge.svg\" alt=\"Open In Colab\"/></a>"
      ]
    },
    {
      "cell_type": "markdown",
      "metadata": {
        "id": "HdXZ-QfaDpl_"
      },
      "source": [
        "\n",
        "magine you're working for a large online marketplace company that facilitates the<br>\n",
        "buying and selling of various products. As part of the order processing system, the<br>\n",
        "company receives thousands of new orders every minute from customers all around<br>\n",
        "the world. To ensure efficient and timely order fulfillment, the orders need to be<br>\n",
        "sorted based on various criteria before they can be processed and shipped Some <br>\n",
        "customers may request advanced shipping or have urgent requirements.<br>\n",
        ", implement an application to arrange the Orders based on priority Number.\n"
      ]
    },
    {
      "cell_type": "code",
      "execution_count": null,
      "metadata": {
        "id": "GwHKWce5DpmB"
      },
      "outputs": [],
      "source": [
        "def quick_sort(array):\n",
        "    if len(array)<=1:\n",
        "        return array\n",
        "    else:\n",
        "        pivot = array[-1]\n",
        "        left_partition = [x for x in array[:-1] if x <= pivot]\n",
        "        right_partition = [x for x in array[:-1] if x > pivot]\n",
        "        return quick_sort(left_partition) + [pivot] + quick_sort(right_partition)"
      ]
    },
    {
      "cell_type": "code",
      "execution_count": null,
      "metadata": {
        "id": "47zBhGVbDpmC"
      },
      "outputs": [],
      "source": [
        "array = []\n",
        "print('Enter orders Priority Number:')\n",
        "for _ in range(12):\n",
        "    val = int(input())\n",
        "    array.append(val)\n",
        "sorted_array = quick_sort(array)\n",
        "print('After Sorting Orders Priority:')\n",
        "for i in sorted_array:\n",
        "    print(i,end=' ')"
      ]
    }
  ],
  "metadata": {
    "kernelspec": {
      "display_name": "Python 3",
      "language": "python",
      "name": "python3"
    },
    "language_info": {
      "codemirror_mode": {
        "name": "ipython",
        "version": 3
      },
      "file_extension": ".py",
      "mimetype": "text/x-python",
      "name": "python",
      "nbconvert_exporter": "python",
      "pygments_lexer": "ipython3",
      "version": "3.6.4"
    },
    "colab": {
      "provenance": [],
      "include_colab_link": true
    }
  },
  "nbformat": 4,
  "nbformat_minor": 0
}