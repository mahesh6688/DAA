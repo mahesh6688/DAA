{
  "cells": [
    {
      "cell_type": "markdown",
      "metadata": {
        "id": "view-in-github",
        "colab_type": "text"
      },
      "source": [
        "<a href=\"https://colab.research.google.com/github/maheshboi/DAA/blob/main/WEEK1_2_GN_DAA.ipynb\" target=\"_parent\"><img src=\"https://colab.research.google.com/assets/colab-badge.svg\" alt=\"Open In Colab\"/></a>"
      ]
    },
    {
      "cell_type": "markdown",
      "metadata": {
        "id": "caTvyWZ2BdXe"
      },
      "source": [
        "\n",
        "Imagine you are working for a retail store that sells a wide variety of products. The<br>\n",
        "store has a vast inventory with thousands of items, and it's becoming challenging for<br>\n",
        "the employees to manage and locate products efficiently. Customers often ask for<br>\n",
        "specific items, and employees need to find them quickly. The sorting program's<br>\n",
        "primary goal is to organize the products in the inventory systematically, allowing for<br>\n",
        "faster and easier access to items when needed.<br>\n",
        "Implement an efficient sorting algorithm to arrange the products based on product<br>\n",
        "s.\n"
      ]
    },
    {
      "cell_type": "code",
      "execution_count": null,
      "metadata": {
        "id": "Q6eLAJBbBdXh"
      },
      "outputs": [],
      "source": [
        "def quick_sort(array):\n",
        "    if len(array)<=1:\n",
        "        return array\n",
        "    else:\n",
        "        pivot = array[-1]\n",
        "        left_partition = [x for x in array[:-1] if x <= pivot]\n",
        "        right_partition = [x for x in array[:-1] if x > pivot]\n",
        "        return quick_sort(left_partition) + [pivot] + quick_sort(right_partition)"
      ]
    },
    {
      "cell_type": "code",
      "execution_count": null,
      "metadata": {
        "id": "MYHQyNi5BdXi"
      },
      "outputs": [],
      "source": [
        "array = []\n",
        "print('Enter Products IDs:')\n",
        "for _ in range(12):\n",
        "    val = int(input())\n",
        "    array.append(val)\n",
        "sorted_array = quick_sort(array)\n",
        "print('After Sorting Product IDs:')\n",
        "for i in sorted_array:\n",
        "    print(i,end=' ')"
      ]
    }
  ],
  "metadata": {
    "kernelspec": {
      "display_name": "Python 3",
      "language": "python",
      "name": "python3"
    },
    "language_info": {
      "codemirror_mode": {
        "name": "ipython",
        "version": 3
      },
      "file_extension": ".py",
      "mimetype": "text/x-python",
      "name": "python",
      "nbconvert_exporter": "python",
      "pygments_lexer": "ipython3",
      "version": "3.6.4"
    },
    "colab": {
      "provenance": [],
      "include_colab_link": true
    }
  },
  "nbformat": 4,
  "nbformat_minor": 0
}