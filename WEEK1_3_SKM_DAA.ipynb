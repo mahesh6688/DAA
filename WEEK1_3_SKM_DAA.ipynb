{
  "cells": [
    {
      "cell_type": "markdown",
      "metadata": {
        "id": "view-in-github",
        "colab_type": "text"
      },
      "source": [
        "<a href=\"https://colab.research.google.com/github/maheshboi/DAA/blob/main/WEEK1_3_SKM_DAA.ipynb\" target=\"_parent\"><img src=\"https://colab.research.google.com/assets/colab-badge.svg\" alt=\"Open In Colab\"/></a>"
      ]
    },
    {
      "cell_type": "markdown",
      "metadata": {
        "id": "WWykE9OHDKIi"
      },
      "source": [
        "\n",
        "Imagine you are working for a large online marketplace like Amazon or eBay. One<br>\n",
        "of the critical functionalities of such platforms is to display products to customers in<br>\n",
        "a way that is relevant, helpful, and easy to navigate. Customers can browse through<br>\n",
        "thousands or even millions of products, and Many users prefer to see products sorted<br>\n",
        "by price, either in ascending or descending order. This allows them to find the<br>\n",
        "cheapest or most expensive products within their budget. So, implement an<br>\n",
        "plication to arrange the products based on price.\n"
      ]
    },
    {
      "cell_type": "code",
      "execution_count": null,
      "metadata": {
        "id": "iqgKNmg0DKIk"
      },
      "outputs": [],
      "source": [
        "array = []\n",
        "print('Enter Product Price:')\n",
        "for _ in range(4):\n",
        "    val = int(input())\n",
        "    array.append(val)\n",
        "for i in range(1,len(array)):\n",
        "    index = i\n",
        "    for j in range(i-1,-1,-1):\n",
        "        if array[index] > array[j]:\n",
        "            break\n",
        "        else:\n",
        "            array[index],array[j] = array[j],array[index]\n",
        "            index = j\n",
        "for i in array:\n",
        "    print(i)"
      ]
    }
  ],
  "metadata": {
    "kernelspec": {
      "display_name": "Python 3",
      "language": "python",
      "name": "python3"
    },
    "language_info": {
      "codemirror_mode": {
        "name": "ipython",
        "version": 3
      },
      "file_extension": ".py",
      "mimetype": "text/x-python",
      "name": "python",
      "nbconvert_exporter": "python",
      "pygments_lexer": "ipython3",
      "version": "3.6.4"
    },
    "colab": {
      "provenance": [],
      "include_colab_link": true
    }
  },
  "nbformat": 4,
  "nbformat_minor": 0
}