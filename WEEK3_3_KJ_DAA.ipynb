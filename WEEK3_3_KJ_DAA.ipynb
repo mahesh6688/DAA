{
  "cells": [
    {
      "cell_type": "markdown",
      "metadata": {
        "id": "view-in-github",
        "colab_type": "text"
      },
      "source": [
        "<a href=\"https://colab.research.google.com/github/maheshboi/DAA/blob/main/WEEK3_3_KJ_DAA.ipynb\" target=\"_parent\"><img src=\"https://colab.research.google.com/assets/colab-badge.svg\" alt=\"Open In Colab\"/></a>"
      ]
    },
    {
      "cell_type": "markdown",
      "metadata": {
        "id": "hJkQpSpeG7zT"
      },
      "source": [
        "\n",
        "Imagine you are working for an online food delivery service like UberEats or DoorDash. One of<br>\n",
        "the key features of such platforms is to display restaurants and their available dishes to customers<br>\n",
        "in an organized and user-friendly manner. Customers often prefer to see the dishes sorted by<br>\n",
        "their prices in ascending order, so they can easily choose meals that fit their budget. Implement<br>\n",
        "an application to arrange the dishes based on their prices using Merge Sort.<br>\n",
        "TEST CASE 1:<br>\n",
        "INPUT:<br>\n",
        "Enter Dish Price: 350<br>\n",
        "120<br>\n",
        "600<br>\n",
        "450<br>\n",
        "OUTPUT:<br>\n",
        "600<br>\n",
        "450<br>\n",
        "350<br>\n",
        "0\n"
      ]
    },
    {
      "cell_type": "code",
      "execution_count": null,
      "metadata": {
        "id": "375FLxSdG7zW"
      },
      "outputs": [],
      "source": [
        "def merge_sort(array):\n",
        "    if len(array)<=1:\n",
        "        return array\n",
        "    else:\n",
        "        mid = len(array)//2\n",
        "        left_half = merge_sort(array[:mid])\n",
        "        right_half = merge_sort(array[mid:])\n",
        "        return merge(left_half,right_half)"
      ]
    },
    {
      "cell_type": "code",
      "execution_count": null,
      "metadata": {
        "id": "lNMxFDKgG7zX"
      },
      "outputs": [],
      "source": [
        "def merge(left,right):\n",
        "    result = []\n",
        "    i = j = 0\n",
        "    while i<len(left) and j<len(right):\n",
        "        if left[i]>right[j]:\n",
        "            result.append(left[i])\n",
        "            i+=1\n",
        "        else:\n",
        "            result.append(right[j])\n",
        "            j+=1\n",
        "    result.extend(left[i:])\n",
        "    result.extend(right[j:])\n",
        "    return result\n",
        "array = []\n",
        "print('Enter Dish Price:')\n",
        "for _ in range(4):\n",
        "    val = int(input())\n",
        "    array.append(val)\n",
        "sorted_array = merge_sort(array)\n",
        "for i in sorted_array:\n",
        "    print(i)"
      ]
    }
  ],
  "metadata": {
    "kernelspec": {
      "display_name": "Python 3",
      "language": "python",
      "name": "python3"
    },
    "language_info": {
      "codemirror_mode": {
        "name": "ipython",
        "version": 3
      },
      "file_extension": ".py",
      "mimetype": "text/x-python",
      "name": "python",
      "nbconvert_exporter": "python",
      "pygments_lexer": "ipython3",
      "version": "3.6.4"
    },
    "colab": {
      "provenance": [],
      "include_colab_link": true
    }
  },
  "nbformat": 4,
  "nbformat_minor": 0
}