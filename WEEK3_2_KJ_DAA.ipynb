{
  "cells": [
    {
      "cell_type": "markdown",
      "metadata": {
        "id": "view-in-github",
        "colab_type": "text"
      },
      "source": [
        "<a href=\"https://colab.research.google.com/github/maheshboi/DAA/blob/main/WEEK3_2_KJ_DAA.ipynb\" target=\"_parent\"><img src=\"https://colab.research.google.com/assets/colab-badge.svg\" alt=\"Open In Colab\"/></a>"
      ]
    },
    {
      "cell_type": "markdown",
      "metadata": {
        "id": "8nlcPC3XEGBW"
      },
      "source": [
        "\n",
        "Given a sorted array of TCS company employees' salaries in ascending order, implement a<br>\n",
        "function called binarySearchSalary in C that searches for a specific salary in the sorted salary<br>\n",
        "array and returns its index. If the salary is not found, the function should return -1.<br>\n",
        "TEST CASE 1:<br>\n",
        "INPUT:<br>\n",
        "TCS Company Employees' Salaries in USD: $3000, $4500, $5500, $6500, $7500, $8500,<br>\n",
        "$9500, $11000<br>\n",
        "OUTPUT:<br>\n",
        "nd the salary of the TCS employee with a salary of: $6500\n"
      ]
    },
    {
      "cell_type": "code",
      "execution_count": null,
      "metadata": {
        "id": "TIdiolKPEGBY"
      },
      "outputs": [],
      "source": [
        "def binary(array):\n",
        "    l = 0\n",
        "    r = len(array)-1\n",
        "    while l<=r:\n",
        "        mid = (l+r)//2\n",
        "        if array[mid] == key:\n",
        "            return mid\n",
        "        elif array[mid] > key:\n",
        "            r = mid\n",
        "        else:\n",
        "            l = mid+1\n",
        "    return -1"
      ]
    },
    {
      "cell_type": "code",
      "execution_count": null,
      "metadata": {
        "id": "o9pINDriEGBZ"
      },
      "outputs": [],
      "source": [
        "array = []\n",
        "print(\"Enter TCS Company Employees' Salaries in USD: \")\n",
        "for _ in range(8):\n",
        "    val = int(input())\n",
        "    array.append(val)\n",
        "key = int(input('Enter the salary of TCS Employee to be found: '))\n",
        "print(binary(array))"
      ]
    }
  ],
  "metadata": {
    "kernelspec": {
      "display_name": "Python 3",
      "language": "python",
      "name": "python3"
    },
    "language_info": {
      "codemirror_mode": {
        "name": "ipython",
        "version": 3
      },
      "file_extension": ".py",
      "mimetype": "text/x-python",
      "name": "python",
      "nbconvert_exporter": "python",
      "pygments_lexer": "ipython3",
      "version": "3.6.4"
    },
    "colab": {
      "provenance": [],
      "include_colab_link": true
    }
  },
  "nbformat": 4,
  "nbformat_minor": 0
}