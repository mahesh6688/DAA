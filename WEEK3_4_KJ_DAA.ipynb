{
  "cells": [
    {
      "cell_type": "markdown",
      "metadata": {
        "id": "view-in-github",
        "colab_type": "text"
      },
      "source": [
        "<a href=\"https://colab.research.google.com/github/maheshboi/DAA/blob/main/WEEK3_4_KJ_DAA.ipynb\" target=\"_parent\"><img src=\"https://colab.research.google.com/assets/colab-badge.svg\" alt=\"Open In Colab\"/></a>"
      ]
    },
    {
      "cell_type": "markdown",
      "metadata": {
        "id": "qo5Z4aSUEXLL"
      },
      "source": [
        "\n",
        "As part of an HR management system for a large corporation, you are tasked with developing a<br>\n",
        "feature that allows HR managers to view employee salaries in an organized manner. To assist in<br>\n",
        "budgeting and salary adjustments, HR managers need to see the list of employee salaries sorted<br>\n",
        "in descending order, starting from the highest salary.<br>\n",
        "Task: Implement a function to sort the list of employee salaries in descending order using the<br>\n",
        "Merge Sort algorithm.<br>\n",
        "Example:<br>\n",
        "Test Case 1:<br>\n",
        "• Input:<br>\n",
        "Enter Employee Salaries:<br>\n",
        "55000<br>\n",
        "32000<br>\n",
        "75000<br>\n",
        "46000<br>\n",
        "• Output:<br>\n",
        "75000<br>\n",
        "55000<br>\n",
        "46000<br>\n",
        "000\n"
      ]
    },
    {
      "cell_type": "code",
      "execution_count": null,
      "metadata": {
        "id": "Qb285qwREXLO"
      },
      "outputs": [],
      "source": [
        "def merge_sort(array):\n",
        "    if len(array)<=1:\n",
        "        return array\n",
        "    else:\n",
        "        mid = len(array)//2\n",
        "        left_half = merge_sort(array[:mid])\n",
        "        right_half = merge_sort(array[mid:])\n",
        "        return merge(left_half,right_half)"
      ]
    },
    {
      "cell_type": "code",
      "execution_count": null,
      "metadata": {
        "id": "rdQMpFv8EXLP"
      },
      "outputs": [],
      "source": [
        "def merge(left,right):\n",
        "    result = []\n",
        "    i = j = 0\n",
        "    while i<len(left) and j<len(right):\n",
        "        if left[i]>right[j]:\n",
        "            result.append(left[i])\n",
        "            i+=1\n",
        "        else:\n",
        "            result.append(right[j])\n",
        "            j+=1\n",
        "    result.extend(left[i:])\n",
        "    result.extend(right[j:])\n",
        "    return result\n",
        "array = []\n",
        "print('Enter Employees Salaries:')\n",
        "for _ in range(4):\n",
        "    val = int(input())\n",
        "    array.append(val)\n",
        "sorted_array = merge_sort(array)\n",
        "for i in sorted_array:\n",
        "    print(i)"
      ]
    }
  ],
  "metadata": {
    "kernelspec": {
      "display_name": "Python 3",
      "language": "python",
      "name": "python3"
    },
    "language_info": {
      "codemirror_mode": {
        "name": "ipython",
        "version": 3
      },
      "file_extension": ".py",
      "mimetype": "text/x-python",
      "name": "python",
      "nbconvert_exporter": "python",
      "pygments_lexer": "ipython3",
      "version": "3.6.4"
    },
    "colab": {
      "provenance": [],
      "include_colab_link": true
    }
  },
  "nbformat": 4,
  "nbformat_minor": 0
}